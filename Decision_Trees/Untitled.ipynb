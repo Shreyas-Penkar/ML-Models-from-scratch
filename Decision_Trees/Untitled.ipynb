{
 "cells": [
  {
   "cell_type": "code",
   "execution_count": 210,
   "metadata": {},
   "outputs": [],
   "source": [
    "import numpy as np\n",
    "import pandas as pd\n",
    "tree=[]"
   ]
  },
  {
   "cell_type": "code",
   "execution_count": 129,
   "metadata": {},
   "outputs": [
    {
     "name": "stdout",
     "output_type": "stream",
     "text": [
      "     sex exang  Heart_Disease\n",
      "0      1     0              1\n",
      "1      1     0              1\n",
      "2      1     1              3\n",
      "3      1     1              1\n",
      "4      0     0              2\n",
      "..   ...   ...            ...\n",
      "118    1     1              1\n",
      "119    1     1              3\n",
      "120    1     0              0\n",
      "121    0     0              1\n",
      "122    1     0              1\n",
      "\n",
      "[123 rows x 3 columns]\n"
     ]
    }
   ],
   "source": [
    "data = pd.read_csv('processed.switzerland.txt', sep=\",\", header=None) # read processed data\n",
    "data2=data2=(data[[1,8,13]])  # only trestbps,sex and exang variables #3\n",
    "data2.columns=[\"sex\",\"exang\",\"Heart_Disease\"] #\"trestbps\"\n",
    "print(data2)"
   ]
  },
  {
   "cell_type": "code",
   "execution_count": 130,
   "metadata": {},
   "outputs": [
    {
     "name": "stdout",
     "output_type": "stream",
     "text": [
      "[1 1 3 1 2 1 0 1 2 1 2 2 1 2 3 4 2 0 1 1 1 3 2 1 2 1 3 3 1 2 4 3 2 1 2 2 2\n",
      " 2 2 2 3 0 1 1 1 4 2 0 2 3 1 0 1 4 2 0 2 2 1 2 2 3 1 1 3 2 3 2 1 1 4 1 1 3\n",
      " 2 1 1 1 3 1 3 3 1 3 1 1 3 3 3 1 2 2 2 1 1 3 2 1 3 1 2 3 3 1 3 1 1 1 3 0 3\n",
      " 1 3 2 3 1 1 3 1 3 0 1 1]\n",
      "[0 0 1 0 1 0 0 0 1 0 1 1 0 1 1 1 1 0 0 0 0 1 1 0 1 0 1 1 0 1 1 1 1 0 1 1 1\n",
      " 1 1 1 1 0 0 0 0 1 1 0 1 1 0 0 0 1 1 0 1 1 0 1 1 1 0 0 1 1 1 1 0 0 1 0 0 1\n",
      " 1 0 0 0 1 0 1 1 0 1 0 0 1 1 1 0 1 1 1 0 0 1 1 0 1 0 1 1 1 0 1 0 0 0 1 0 1\n",
      " 0 1 1 1 0 0 1 0 1 0 0 0]\n"
     ]
    }
   ],
   "source": [
    "ar=np.asarray(data2[\"Heart_Disease\"]) # preprocessing\n",
    "print((ar))\n",
    "for i in range(len(ar)):\n",
    "    if ar[i]<2:\n",
    "        ar[i]=0\n",
    "    else:\n",
    "        ar[i]=1\n",
    "print(ar)"
   ]
  },
  {
   "cell_type": "code",
   "execution_count": 60,
   "metadata": {},
   "outputs": [
    {
     "name": "stdout",
     "output_type": "stream",
     "text": [
      "    trestbps  sex exang  Heart_Disease\n",
      "0         95    1     0              0\n",
      "1        115    1     0              0\n",
      "2          ?    1     1              1\n",
      "3        110    1     1              0\n",
      "4        105    0     0              1\n",
      "..       ...  ...   ...            ...\n",
      "118      115    1     1              0\n",
      "119      140    1     1              1\n",
      "120      160    1     0              0\n",
      "121      160    0     0              0\n",
      "122      145    1     0              0\n",
      "\n",
      "[123 rows x 4 columns]\n"
     ]
    }
   ],
   "source": [
    "print(data2)"
   ]
  },
  {
   "cell_type": "code",
   "execution_count": 1,
   "metadata": {},
   "outputs": [],
   "source": [
    "def weightedAvg(TrueSum,FalseSum,giniTrue,giniFalse):\n",
    "    return ((TrueSum/(TrueSum+FalseSum))*giniTrue) + ((FalseSum/(TrueSum+FalseSum))*giniFalse)"
   ]
  },
  {
   "cell_type": "code",
   "execution_count": 10,
   "metadata": {},
   "outputs": [],
   "source": [
    "def Gini(arr): # arr of length 4\n",
    "    \n",
    "    # Gini impurity = 1 - (probability of yes)^2 - (probability of no)^2\n",
    "    \n",
    "    giniTrue=1-pow((arr[0]/(arr[0]+arr[1])),2)-pow((arr[1]/(arr[0]+arr[1])),2)\n",
    "    giniFalse=1-pow((arr[2]/(arr[2]+arr[3])),2)-pow((arr[3]/(arr[2]+arr[3])),2)\n",
    " \n",
    "    return round(weightedAvg(arr[0]+arr[1],arr[2]+arr[3],giniTrue,giniFalse),4)\n",
    "    "
   ]
  },
  {
   "cell_type": "code",
   "execution_count": 11,
   "metadata": {},
   "outputs": [
    {
     "name": "stdout",
     "output_type": "stream",
     "text": [
      "0.3641\n"
     ]
    }
   ],
   "source": [
    "arr=[105,39,34,125]\n",
    "print(Gini(arr))"
   ]
  },
  {
   "cell_type": "code",
   "execution_count": 100,
   "metadata": {},
   "outputs": [],
   "source": [
    "def categoryChecker(data): # assuming no missing vals\n",
    "    for i in range(len(data.columns)):\n",
    "        x=data[data.columns[i]]\n",
    "        y1=np.where((x[i]!='0') & (x[i]!='1'))\n",
    "        y2=np.where((x[i]!=0) & (x[i]!=1))\n",
    "        \n",
    "        if (len(y1[0])==0 or len(y2[0])==0):\n",
    "            print(\"True\")\n",
    "        else:\n",
    "            print(\"False\")\n",
    "\n",
    "\n",
    "        "
   ]
  },
  {
   "cell_type": "code",
   "execution_count": 132,
   "metadata": {},
   "outputs": [
    {
     "name": "stdout",
     "output_type": "stream",
     "text": [
      "True\n",
      "True\n",
      "True\n"
     ]
    }
   ],
   "source": [
    "categoryChecker(data2)"
   ]
  },
  {
   "cell_type": "code",
   "execution_count": 123,
   "metadata": {},
   "outputs": [],
   "source": [
    "def BivariateCounter(feature,prediction):\n",
    "    \n",
    "    feature = [int(numeric_string) for numeric_string in feature]\n",
    "    feature=np.asarray(feature)\n",
    "    \n",
    "    prediction = [int(numeric_string) for numeric_string in prediction]\n",
    "    prediction=np.asarray(prediction)\n",
    "    \n",
    "    arr=np.zeros((4,), dtype=int)\n",
    "    \n",
    "    arr[0]=len((np.where((feature==1) & (prediction==1)))[0])\n",
    "    arr[1]=len((np.where((feature==0) & (prediction==1)))[0])\n",
    "    arr[2]=len((np.where((feature==1) & (prediction==0)))[0])\n",
    "    arr[3]=len((np.where((feature==0) & (prediction==0)))[0])\n",
    "    \n",
    "    return arr\n",
    "    "
   ]
  },
  {
   "cell_type": "code",
   "execution_count": 126,
   "metadata": {},
   "outputs": [
    {
     "name": "stdout",
     "output_type": "stream",
     "text": [
      "[63  4 50  6]\n"
     ]
    }
   ],
   "source": [
    "print(BivariateCounter(data2[\"sex\"],data2[\"Heart_Disease\"]))"
   ]
  },
  {
   "cell_type": "code",
   "execution_count": 142,
   "metadata": {},
   "outputs": [
    {
     "name": "stdout",
     "output_type": "stream",
     "text": [
      "     sex exang  Heart_Disease\n",
      "0      1     0              0\n",
      "1      1     0              0\n",
      "2      1     1              1\n",
      "3      1     1              0\n",
      "4      0     0              1\n",
      "..   ...   ...            ...\n",
      "118    1     1              0\n",
      "119    1     1              1\n",
      "120    1     0              0\n",
      "121    0     0              0\n",
      "122    1     0              0\n",
      "\n",
      "[123 rows x 3 columns]\n"
     ]
    }
   ],
   "source": [
    "print(data2)"
   ]
  },
  {
   "cell_type": "code",
   "execution_count": 262,
   "metadata": {},
   "outputs": [],
   "source": [
    "def DecisionTree(data):\n",
    "    \n",
    "    tree=[None] * (pow(2,len(data.columns))-1)\n",
    "    giniarr=np.zeros(len(data.columns)-1)\n",
    "    \n",
    "    for i in range(len(data.columns)-1): #last column must be prediction\n",
    "        giniarr[i]=(Gini(BivariateCounter(data[data.columns[i]],data[data.columns[len(data.columns)-1]])))\n",
    "        \n",
    "    tree[0]=(data.columns[list(giniarr).index(min(giniarr))])\n",
    "    count=BivariateCounter(data[data.columns[list(giniarr).index(min(giniarr))]],data[data.columns[len(data.columns)-1]])\n",
    "    #gini short(count)\n",
    "#     print((data[data[tree[0]] == 1]).drop(tree[0],axis=1))\n",
    "\n",
    "    Node(((data[data[tree[0]] == 1]).drop(tree[0],axis=1)),1)\n",
    "    Node(((data[data[tree[0]] == 0]).drop(tree[0],axis=1)),2)\n",
    "\n",
    "   \n",
    "\n",
    "DecisionTree(data2)        "
   ]
  },
  {
   "cell_type": "code",
   "execution_count": 261,
   "metadata": {},
   "outputs": [],
   "source": [
    "def Node(data,pos):\n",
    "    \n",
    "    xarr=np.ones(len(data.columns)-1)\n",
    "    for i in range(len(data.columns)-1): #last column must be prediction\n",
    "        xarr[i]=(Gini(BivariateCounter(data[data.columns[i]],data[data.columns[len(data.columns)-1]])))\n",
    "\n",
    "    tree[pos]=(data.columns[list(xarr).index(min(xarr))])\n",
    "    count=BivariateCounter(data[data.columns[list(xarr).index(min(xarr))]],data[data.columns[len(data.columns)-1]])\n",
    "    \n",
    "    if len(data.columns)==2:\n",
    "        ar=(BivariateCounter(data[data.columns[0]],data[data.columns[1]]))\n",
    "        tree[(2*pos)+1]=(ar[0]/(ar[0]+ar[1]))\n",
    "        tree[(2*pos)+2]=(ar[2]/(ar[2]+ar[3]))\n",
    "        return\n",
    "    \n",
    "    Node((data[data[data.columns[list(xarr).index(min(xarr))] == 1]].drop(data.columns[list(xarr).index(min(xarr))], axis=1)),(2*pos)+1)\n",
    "    Node((data[data[data.columns[list(xarr).index(min(xarr))] == 0]].drop(data.columns[list(xarr).index(min(xarr))], axis=1)),(2*pos)+1)\n",
    "\n",
    "    \n",
    "    \n"
   ]
  },
  {
   "cell_type": "code",
   "execution_count": 263,
   "metadata": {},
   "outputs": [
    {
     "name": "stdout",
     "output_type": "stream",
     "text": [
      "['sex', 'exang', 'exang', 0.4603174603174603, 0.44, 0.5, 0.16666666666666666]\n"
     ]
    }
   ],
   "source": [
    "print(tree)"
   ]
  }
 ],
 "metadata": {
  "kernelspec": {
   "display_name": "Python 3.6.8 64-bit",
   "language": "python",
   "name": "python36864bit865017e6d1894c90b8d49c3f0bd21730"
  },
  "language_info": {
   "codemirror_mode": {
    "name": "ipython",
    "version": 3
   },
   "file_extension": ".py",
   "mimetype": "text/x-python",
   "name": "python",
   "nbconvert_exporter": "python",
   "pygments_lexer": "ipython3",
   "version": "3.6.8"
  }
 },
 "nbformat": 4,
 "nbformat_minor": 4
}
